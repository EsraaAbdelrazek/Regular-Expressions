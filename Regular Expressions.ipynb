#!/usr/bin/env python
# coding: utf-8

# ## what is the Regular Expression !? 

# In[9]:


print ("esraa\\tahmed")


# In[2]:


import re # ( Regular expression )


# In[3]:


text_to_search = '''abcdefghijklmnopqurtuvwxyz
ABCDEFGHIJKLMNOPQRSTUVWXYZ
123456789010
Ha HaHa
MetaCharacters (Need to be escaped):
. ^ $ * + - ? { } [ ] \ | ( )
abc
cat
mat 
hat
bat
fat
sat
01092329340
321-555-4321
123.555.1234
123*555*1234
800-555-1234
900-555-1234
coreyms-com
coreyms.com
Mr. Schafer
Mr Smith
Ms Davis
Mrs. Robinson
Mr. T
01025489785
'''

sentence = 'Start a sentence and then bring it to an end'


# ### Rules:
# 
# .       - Any Character Except New Line <br>
# \d      - Digit (0-9)<br>
# \D      - Not a Digit (0-9)<br>
# \w      - Word Character (a-z, A-Z, 0-9, _) <br>
# \W      - Not a Word Character<br>
# \s      - Whitespace (space, tab, newline) <br>
# \S      - Not Whitespace (space, tab, newline)<br>
# 
# 
# ^       - Beginning of a String <br>
# $       - End of a String <br>
# 
# []      - Matches Characters in brackets <br>
# [^ ]    - Matches Characters NOT in brackets <br>
# |       - Either Or <br>
# ( )     - Group <br>
# 
# Quantifiers:
# <br>
#  {*}       - 0 or More <br>
#  {+}       - 1 or More <br>
#  ?       - 0 or One <br>
# {3}     - Exact Number <br>
# {3,4}   - Range of Numbers (Minimum, Maximum) <br>
# 
# 
# #### Sample Regexs ####
# 
# [a-zA-Z0-9_.+-]+@[a-zA-Z0-9-]+\.[a-zA-Z0-9-.]+
# 

# In[38]:


pattern = re.compile(r"(010|011|012)") # txt for search 
matches = pattern.finditer(text_to_search )
for match in matches :
    print (match)


# In[6]:



pattern = re.compile(r"abc") # txt for search 
matches = pattern.findall(text_to_search )
for match in matches :
    print (match)


# #### Matching everything

# In[ ]:


pattern = re.compile(r"...") # txt for search 
matches = pattern.finditer(text_to_search )
for match in matches :
    print (match)


# In[ ]:


pattern = re.compile(r"\.") # txt for search 
matches = pattern.finditer(text_to_search )
for match in matches :
    print (match)


# In[ ]:





# #### Matching Digits

# In[18]:


pattern = re.compile(r"\d\d\d") # txt for search 
matches = pattern.finditer(text_to_search )
for match in matches :
    print (match)


# In[19]:


pattern = re.compile(r"\D") # txt for search 
matches = pattern.finditer(text_to_search )
for match in matches :
    print (match)


# In[ ]:





# #### Word Character (a-z, A-Z, 0-9, _) 

# In[22]:


pattern = re.compile(r"\w\w\w") # txt for search 
matches = pattern.finditer(text_to_search )
for match in matches :
    print (match)


# In[28]:


pattern = re.compile(r"\S") # txt for search 
matches = pattern.finditer(text_to_search )
for match in matches :
    print (match)


# #### character set

# In[31]:


pattern = re.compile(r"[a-zA-Z0-9]") # txt for search 
matches = pattern.finditer(text_to_search )
for match in matches :
    print (match)


# In[33]:



pattern = re.compile(r"\d\d\d[*-.]\d\d\d[*-.]\d\d\d\d") # txt for search 
matches = pattern.finditer(text_to_search )
for match in matches :
    print (match)


# In[34]:



pattern = re.compile(r"[89]00[-.]\d\d\d") # txt for search 
matches = pattern.finditer(text_to_search )
for match in matches :
    print (match)


# In[37]:



pattern = re.compile(r"[^a-z]") # txt for search 
matches = pattern.finditer(text_to_search )
for match in matches :
    print (match)


# In[ ]:





# In[ ]:





# In[ ]:





# In[ ]:





# In[ ]:





#  ### Quantifier { }

# In[57]:


pattern = re.compile(r"\d*") 
matches = pattern.finditer(text_to_search )
for match in matches :
    print (match)
# + --> one or more 
# ? --> zore or more 
# * --> zero or more 


# In[64]:


text_to_search = '''abcdefghijklmnopqurtuvwxyz
ABCDEFGHIJKLMNOPQRSTUVWXYZ
123456789010
Ha HaHa
MetaCharacters (Need to be escaped):
. ^ $ * + - ? { } [ ] \ | ( )
abc
cat
mat 
hat
bat
fat
sat
01092329340
321-555-4321
123.555.1234
123*555*1234
800-555-1234
900-555-1234
coreyms-com
coreyms.com
Mr. Schafer
Mr- Smith
Ms Davis
Mrs Robinson
Mr. T
01025489785
'''

sentence = 'Start a sentence and then bring it to an end'


# In[68]:


pattern = re.compile(r"M(r|s|rs)\.?\s?[a-z]?\w+") 
matches = pattern.finditer(text_to_search )
for match in matches :
    print (match)


# In[ ]:





# ### Emails Matching

# In[75]:


emails = '''
EsraaAhmed@gmail.com
esraa.ahmed@university.edu
esraa-321-ahmed@my-work.net
'''


# In[89]:


pattern = re.compile(r"[a-zA-Z-]+\.?-?\d{3}?-?[a-zA-Z]+@[a-zA-Z-]+-?[a-z]?\.[a-z]+") 
matches = pattern.finditer(emails)
for match in matches :
    print (match)


# In[ ]:




